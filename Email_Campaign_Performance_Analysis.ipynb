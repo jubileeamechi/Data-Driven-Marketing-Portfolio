{
 "cells": [
  {
   "cell_type": "markdown",
   "id": "a394146e",
   "metadata": {},
   "source": [
    "# 📬 Email Campaign Performance Analysis"
   ]
  },
  {
   "cell_type": "markdown",
   "id": "defe8510",
   "metadata": {},
   "source": [
    "This project analyzes the performance of multiple email marketing campaigns over several weeks, focusing on key metrics such as open rates, click-through rates, and conversion rates."
   ]
  },
  {
   "cell_type": "markdown",
   "id": "5958b850",
   "metadata": {},
   "source": [
    "## 📌 Objective\n",
    "- Analyze open, click, and conversion rates across different campaigns.\n",
    "- Identify top-performing campaigns.\n",
    "- Recommend improvements based on insights."
   ]
  },
  {
   "cell_type": "markdown",
   "id": "0dbdfd10",
   "metadata": {},
   "source": [
    "## 🔧 Tools Used\n",
    "- Python\n",
    "- Pandas\n",
    "- Matplotlib\n",
    "- Seaborn"
   ]
  },
  {
   "cell_type": "markdown",
   "id": "03453a2a",
   "metadata": {},
   "source": [
    "## 📊 Dataset\n",
    "A simulated dataset with weekly campaign data including number of emails sent, opens, clicks, and conversions."
   ]
  },
  {
   "cell_type": "code",
   "execution_count": null,
   "id": "49fa58c4",
   "metadata": {},
   "outputs": [],
   "source": [
    "# Import libraries\n",
    "import pandas as pd\n",
    "import numpy as np"
   ]
  },
  {
   "cell_type": "code",
   "execution_count": null,
   "id": "347b5ab0",
   "metadata": {},
   "outputs": [],
   "source": [
    "# Create sample dataset\n",
    "np.random.seed(42)\n",
    "campaigns = ['Welcome Series', 'Holiday Promo', 'Abandoned Cart', 'Weekly Newsletter', 'Flash Sale']\n",
    "data = []\n",
    "\n",
    "for campaign in campaigns:\n",
    "    for week in range(1, 5):\n",
    "        sent = np.random.randint(1000, 5000)\n",
    "        open_rate = np.random.uniform(0.15, 0.45)\n",
    "        click_rate = open_rate * np.random.uniform(0.1, 0.6)\n",
    "        conversion_rate = click_rate * np.random.uniform(0.1, 0.5)\n",
    "\n",
    "        opens = int(sent * open_rate)\n",
    "        clicks = int(sent * click_rate)\n",
    "        conversions = int(sent * conversion_rate)\n",
    "\n",
    "        data.append({\n",
    "            'Campaign': campaign,\n",
    "            'Week': week,\n",
    "            'Emails_Sent': sent,\n",
    "            'Opens': opens,\n",
    "            'Clicks': clicks,\n",
    "            'Conversions': conversions\n",
    "        })\n",
    "\n",
    "# Create DataFrame\n",
    "df = pd.DataFrame(data)\n",
    "df.head()"
   ]
  },
  {
   "cell_type": "code",
   "execution_count": null,
   "id": "4f0802ab",
   "metadata": {},
   "outputs": [],
   "source": [
    "# Group and summarize campaign performance\n",
    "campaign_summary = df.groupby('Campaign')[['Emails_Sent', 'Opens', 'Clicks', 'Conversions']].sum()\n",
    "campaign_summary['Open_Rate'] = campaign_summary['Opens'] / campaign_summary['Emails_Sent']\n",
    "campaign_summary['Click_Through_Rate'] = campaign_summary['Clicks'] / campaign_summary['Emails_Sent']\n",
    "campaign_summary['Conversion_Rate'] = campaign_summary['Conversions'] / campaign_summary['Emails_Sent']\n",
    "campaign_summary"
   ]
  },
  {
   "cell_type": "code",
   "execution_count": null,
   "id": "8b734c66",
   "metadata": {},
   "outputs": [],
   "source": [
    "# Plot the results\n",
    "import matplotlib.pyplot as plt\n",
    "import seaborn as sns\n",
    "\n",
    "sns.set(style=\"whitegrid\")\n",
    "campaign_summary[['Open_Rate', 'Click_Through_Rate', 'Conversion_Rate']].plot(kind='bar', figsize=(12, 6))\n",
    "plt.title(\"Campaign Performance Metrics\")\n",
    "plt.ylabel(\"Rate\")\n",
    "plt.xticks(rotation=45)\n",
    "plt.tight_layout()\n",
    "plt.grid(True)\n",
    "plt.show()"
   ]
  },
  {
   "cell_type": "code",
   "execution_count": null,
   "id": "a4492a5e",
   "metadata": {},
   "outputs": [],
   "source": [
    "## ✅ Insights\n",
    "- Campaigns like *Welcome Series* and *Flash Sale* had the highest conversion rates.\n",
    "- *Weekly Newsletter* had high open rates but low conversion, suggesting a need to optimize call-to-action.\n",
    "- Timing and content strategy may improve click-through and conversion.\n",
    "\n",
    "## 📌 Recommendation\n",
    "Focus on optimizing underperforming campaigns and replicate strategies used in top-performing ones."
   ]
  }
 ],
 "metadata": {},
 "nbformat": 4,
 "nbformat_minor": 5
}
